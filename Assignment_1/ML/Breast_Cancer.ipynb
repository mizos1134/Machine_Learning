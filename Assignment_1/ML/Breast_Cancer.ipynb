{
 "cells": [
  {
   "cell_type": "code",
   "execution_count": 1,
   "id": "bbdd3ad0-a5ca-41d3-b87c-04d17645f293",
   "metadata": {},
   "outputs": [
    {
     "name": "stdout",
     "output_type": "stream",
     "text": [
      "Requirement already satisfied: ucimlrepo in /opt/anaconda3/lib/python3.11/site-packages (0.0.6)\n",
      "Note: you may need to restart the kernel to use updated packages.\n"
     ]
    }
   ],
   "source": [
    "pip install ucimlrepo"
   ]
  },
  {
   "cell_type": "code",
   "execution_count": 2,
   "id": "2c6158b3-0251-49c9-a375-878647b37e5a",
   "metadata": {},
   "outputs": [
    {
     "name": "stdout",
     "output_type": "stream",
     "text": [
      "{'uci_id': 17, 'name': 'Breast Cancer Wisconsin (Diagnostic)', 'repository_url': 'https://archive.ics.uci.edu/dataset/17/breast+cancer+wisconsin+diagnostic', 'data_url': 'https://archive.ics.uci.edu/static/public/17/data.csv', 'abstract': 'Diagnostic Wisconsin Breast Cancer Database.', 'area': 'Health and Medicine', 'tasks': ['Classification'], 'characteristics': ['Multivariate'], 'num_instances': 569, 'num_features': 30, 'feature_types': ['Real'], 'demographics': [], 'target_col': ['Diagnosis'], 'index_col': ['ID'], 'has_missing_values': 'no', 'missing_values_symbol': None, 'year_of_dataset_creation': 1993, 'last_updated': 'Fri Nov 03 2023', 'dataset_doi': '10.24432/C5DW2B', 'creators': ['William Wolberg', 'Olvi Mangasarian', 'Nick Street', 'W. Street'], 'intro_paper': {'title': 'Nuclear feature extraction for breast tumor diagnosis', 'authors': 'W. Street, W. Wolberg, O. Mangasarian', 'published_in': 'Electronic imaging', 'year': 1993, 'url': 'https://www.semanticscholar.org/paper/53f0fbb425bc14468eb3bf96b2e1d41ba8087f36', 'doi': '10.1117/12.148698'}, 'additional_info': {'summary': 'Features are computed from a digitized image of a fine needle aspirate (FNA) of a breast mass.  They describe characteristics of the cell nuclei present in the image. A few of the images can be found at http://www.cs.wisc.edu/~street/images/\\r\\n\\r\\nSeparating plane described above was obtained using Multisurface Method-Tree (MSM-T) [K. P. Bennett, \"Decision Tree Construction Via Linear Programming.\" Proceedings of the 4th Midwest Artificial Intelligence and Cognitive Science Society, pp. 97-101, 1992], a classification method which uses linear programming to construct a decision tree.  Relevant features were selected using an exhaustive search in the space of 1-4 features and 1-3 separating planes.\\r\\n\\r\\nThe actual linear program used to obtain the separating plane in the 3-dimensional space is that described in: [K. P. Bennett and O. L. Mangasarian: \"Robust Linear Programming Discrimination of Two Linearly Inseparable Sets\", Optimization Methods and Software 1, 1992, 23-34].\\r\\n\\r\\nThis database is also available through the UW CS ftp server:\\r\\nftp ftp.cs.wisc.edu\\r\\ncd math-prog/cpo-dataset/machine-learn/WDBC/', 'purpose': None, 'funded_by': None, 'instances_represent': None, 'recommended_data_splits': None, 'sensitive_data': None, 'preprocessing_description': None, 'variable_info': '1) ID number\\r\\n2) Diagnosis (M = malignant, B = benign)\\r\\n3-32)\\r\\n\\r\\nTen real-valued features are computed for each cell nucleus:\\r\\n\\r\\n\\ta) radius (mean of distances from center to points on the perimeter)\\r\\n\\tb) texture (standard deviation of gray-scale values)\\r\\n\\tc) perimeter\\r\\n\\td) area\\r\\n\\te) smoothness (local variation in radius lengths)\\r\\n\\tf) compactness (perimeter^2 / area - 1.0)\\r\\n\\tg) concavity (severity of concave portions of the contour)\\r\\n\\th) concave points (number of concave portions of the contour)\\r\\n\\ti) symmetry \\r\\n\\tj) fractal dimension (\"coastline approximation\" - 1)', 'citation': None}}\n",
      "                  name     role         type demographic description units  \\\n",
      "0                   ID       ID  Categorical        None        None  None   \n",
      "1            Diagnosis   Target  Categorical        None        None  None   \n",
      "2              radius1  Feature   Continuous        None        None  None   \n",
      "3             texture1  Feature   Continuous        None        None  None   \n",
      "4           perimeter1  Feature   Continuous        None        None  None   \n",
      "5                area1  Feature   Continuous        None        None  None   \n",
      "6          smoothness1  Feature   Continuous        None        None  None   \n",
      "7         compactness1  Feature   Continuous        None        None  None   \n",
      "8           concavity1  Feature   Continuous        None        None  None   \n",
      "9      concave_points1  Feature   Continuous        None        None  None   \n",
      "10           symmetry1  Feature   Continuous        None        None  None   \n",
      "11  fractal_dimension1  Feature   Continuous        None        None  None   \n",
      "12             radius2  Feature   Continuous        None        None  None   \n",
      "13            texture2  Feature   Continuous        None        None  None   \n",
      "14          perimeter2  Feature   Continuous        None        None  None   \n",
      "15               area2  Feature   Continuous        None        None  None   \n",
      "16         smoothness2  Feature   Continuous        None        None  None   \n",
      "17        compactness2  Feature   Continuous        None        None  None   \n",
      "18          concavity2  Feature   Continuous        None        None  None   \n",
      "19     concave_points2  Feature   Continuous        None        None  None   \n",
      "20           symmetry2  Feature   Continuous        None        None  None   \n",
      "21  fractal_dimension2  Feature   Continuous        None        None  None   \n",
      "22             radius3  Feature   Continuous        None        None  None   \n",
      "23            texture3  Feature   Continuous        None        None  None   \n",
      "24          perimeter3  Feature   Continuous        None        None  None   \n",
      "25               area3  Feature   Continuous        None        None  None   \n",
      "26         smoothness3  Feature   Continuous        None        None  None   \n",
      "27        compactness3  Feature   Continuous        None        None  None   \n",
      "28          concavity3  Feature   Continuous        None        None  None   \n",
      "29     concave_points3  Feature   Continuous        None        None  None   \n",
      "30           symmetry3  Feature   Continuous        None        None  None   \n",
      "31  fractal_dimension3  Feature   Continuous        None        None  None   \n",
      "\n",
      "   missing_values  \n",
      "0              no  \n",
      "1              no  \n",
      "2              no  \n",
      "3              no  \n",
      "4              no  \n",
      "5              no  \n",
      "6              no  \n",
      "7              no  \n",
      "8              no  \n",
      "9              no  \n",
      "10             no  \n",
      "11             no  \n",
      "12             no  \n",
      "13             no  \n",
      "14             no  \n",
      "15             no  \n",
      "16             no  \n",
      "17             no  \n",
      "18             no  \n",
      "19             no  \n",
      "20             no  \n",
      "21             no  \n",
      "22             no  \n",
      "23             no  \n",
      "24             no  \n",
      "25             no  \n",
      "26             no  \n",
      "27             no  \n",
      "28             no  \n",
      "29             no  \n",
      "30             no  \n",
      "31             no  \n"
     ]
    }
   ],
   "source": [
    "from ucimlrepo import fetch_ucirepo \n",
    "  \n",
    "# fetch dataset \n",
    "breast_cancer_wisconsin_diagnostic = fetch_ucirepo(id=17) \n",
    "  \n",
    "# data (as pandas dataframes) \n",
    "X = breast_cancer_wisconsin_diagnostic.data.features \n",
    "y = breast_cancer_wisconsin_diagnostic.data.targets \n",
    "  \n",
    "# metadata \n",
    "print(breast_cancer_wisconsin_diagnostic.metadata) \n",
    "  \n",
    "# variable information \n",
    "print(breast_cancer_wisconsin_diagnostic.variables) \n"
   ]
  },
  {
   "cell_type": "code",
   "execution_count": 3,
   "id": "ec8e2ca9-56df-4b09-9931-fb282ae8d091",
   "metadata": {},
   "outputs": [],
   "source": [
    "import pandas as pd\n",
    "import numpy as np\n",
    "\n",
    "# Load the dataset\n",
    "data_url = 'https://archive.ics.uci.edu/static/public/17/data.csv'\n",
    "df = pd.read_csv(data_url)\n",
    "\n",
    "# Preprocessing\n",
    "# Convert 'M' to 1 and 'B' to 0 in the Diagnosis column for binary classification\n",
    "df['Diagnosis'] = df['Diagnosis'].map({'M': 1, 'B': 0})\n",
    "\n",
    "# Drop the 'ID' column as it is not a feature\n",
    "df = df.drop(columns=['ID'])\n",
    "\n",
    "# Split the dataset into features and target\n",
    "X = df.drop(columns=['Diagnosis']).values\n",
    "y = df['Diagnosis'].values\n"
   ]
  },
  {
   "cell_type": "code",
   "execution_count": 4,
   "id": "e1377d28-e196-45ac-bc88-3a45af9f1400",
   "metadata": {},
   "outputs": [],
   "source": [
    "# Assuming a 70-30 train-test split\n",
    "np.random.seed(0)  # For reproducibility\n",
    "msk = np.random.rand(len(df)) < 0.7\n",
    "X_train = X[msk]\n",
    "y_train = y[msk]\n",
    "X_test = X[~msk]\n",
    "y_test = y[~msk]\n"
   ]
  },
  {
   "cell_type": "code",
   "execution_count": 8,
   "id": "af5639ca-320d-440e-8215-553621f47b61",
   "metadata": {},
   "outputs": [],
   "source": [
    "class GaussianNaiveBayes:\n",
    "    def fit(self, X, y):\n",
    "        self.classes = np.unique(y)\n",
    "        self.parameters = {}\n",
    "        for c in self.classes:\n",
    "            X_c = X[y == c]\n",
    "            self.parameters[c] = {\n",
    "                'mean': X_c.mean(axis=0),\n",
    "                'var': X_c.var(axis=0),\n",
    "                'prior': X_c.shape[0] / X.shape[0]\n",
    "            }\n",
    "    \n",
    "    def calculate_likelihood(self, X, mean, var):\n",
    "        # Adding a small constant to the variance to prevent divide by zero\n",
    "        small_constant = 1e-6\n",
    "        adjusted_var = var + small_constant\n",
    "        exponent = np.exp(-(X - mean) ** 2 / (2 * adjusted_var))\n",
    "        return (1 / np.sqrt(2 * np.pi * adjusted_var)) * exponent\n",
    "    \n",
    "    def calculate_posterior(self, X):\n",
    "        posteriors = []\n",
    "        for c in self.classes:\n",
    "            prior = np.log(self.parameters[c]['prior'])\n",
    "            likelihood = self.calculate_likelihood(X, self.parameters[c]['mean'], self.parameters[c]['var'])\n",
    "            # Replace zeros in likelihood with a very small number before taking log\n",
    "            likelihood[likelihood == 0] = 1e-9\n",
    "            posterior = np.sum(np.log(likelihood), axis=1) + prior\n",
    "            posteriors.append(posterior)\n",
    "        return self.classes[np.argmax(posteriors, axis=0)]\n",
    "    \n",
    "    def predict(self, X):\n",
    "        return self.calculate_posterior(X)\n",
    "\n",
    "# Assume X_train, y_train are prepared and are numeric arrays\n",
    "model = GaussianNaiveBayes()\n",
    "\n",
    "# Train the model\n",
    "model.fit(X_train, y_train)\n",
    "\n",
    "# Predictions\n",
    "y_train_pred = model.predict(X_train)\n",
    "y_test_pred = model.predict(X_test)\n"
   ]
  },
  {
   "cell_type": "code",
   "execution_count": 9,
   "id": "6de034a7-fd3c-4276-982d-963f3c43d559",
   "metadata": {},
   "outputs": [
    {
     "name": "stdout",
     "output_type": "stream",
     "text": [
      "Training Accuracy: 0.9318734793187348\n",
      "Test Accuracy: 0.9177215189873418\n"
     ]
    }
   ],
   "source": [
    "def accuracy(y_true, y_pred):\n",
    "    return np.sum(y_true == y_pred) / len(y_true)\n",
    "\n",
    "# Calculate accuracies\n",
    "train_accuracy = accuracy(y_train, y_train_pred)\n",
    "test_accuracy = accuracy(y_test, y_test_pred)\n",
    "\n",
    "print(\"Training Accuracy:\", train_accuracy)\n",
    "print(\"Test Accuracy:\", test_accuracy)\n"
   ]
  },
  {
   "cell_type": "code",
   "execution_count": 13,
   "id": "6d064206-a724-436f-8b5f-e9d977bf564a",
   "metadata": {},
   "outputs": [
    {
     "name": "stdout",
     "output_type": "stream",
     "text": [
      "Training Accuracy for Logistic Regression: 0.948905109489051\n",
      "Test Accuracy for Logistic Regression: 0.9493670886075949\n"
     ]
    }
   ],
   "source": [
    "# Feature scaling function\n",
    "def standardize_data(X):\n",
    "    return (X - np.mean(X, axis=0)) / np.std(X, axis=0)\n",
    "\n",
    "X_train_scaled = standardize_data(X_train)\n",
    "X_test_scaled = standardize_data(X_test)\n",
    "\n",
    "# Stable sigmoid function\n",
    "def sigmoid(z):\n",
    "    z = np.clip(z, -500, 500)  # Clipping z to prevent overflow\n",
    "    return 1 / (1 + np.exp(-z))\n",
    "\n",
    "# Logistic Regression implementation\n",
    "def logistic_regression(X, y, learning_rate=0.01, max_iter=1000):\n",
    "    weights = np.zeros(X.shape[1])\n",
    "    for _ in range(max_iter):\n",
    "        z = np.dot(X, weights)\n",
    "        predictions = sigmoid(z)\n",
    "        errors = y - predictions\n",
    "        gradient = np.dot(X.T, errors) / len(X)\n",
    "        weights += learning_rate * gradient\n",
    "    return weights\n",
    "\n",
    "def predict_logistic(X, weights):\n",
    "    probabilities = sigmoid(np.dot(X, weights))\n",
    "    return (probabilities >= 0.5).astype(int)\n",
    "\n",
    "# Train the logistic regression model\n",
    "weights_lr = logistic_regression(X_train_scaled, y_train, learning_rate=0.001, max_iter=1000)\n",
    "\n",
    "# Make predictions\n",
    "y_train_pred_lr = predict_logistic(X_train_scaled, weights_lr)\n",
    "y_test_pred_lr = predict_logistic(X_test_scaled, weights_lr)\n",
    "\n",
    "# Calculate accuracies\n",
    "def accuracy(y_true, y_pred):\n",
    "    return np.sum(y_true == y_pred) / len(y_true)\n",
    "\n",
    "train_accuracy_lr = accuracy(y_train, y_train_pred_lr)\n",
    "test_accuracy_lr = accuracy(y_test, y_test_pred_lr)\n",
    "\n",
    "print(\"Training Accuracy for Logistic Regression:\", train_accuracy_lr)\n",
    "print(\"Test Accuracy for Logistic Regression:\", test_accuracy_lr)"
   ]
  },
  {
   "cell_type": "code",
   "execution_count": null,
   "id": "938155dc-2396-49d0-80ff-5a8372fc415c",
   "metadata": {},
   "outputs": [],
   "source": []
  }
 ],
 "metadata": {
  "kernelspec": {
   "display_name": "Python 3 (ipykernel)",
   "language": "python",
   "name": "python3"
  },
  "language_info": {
   "codemirror_mode": {
    "name": "ipython",
    "version": 3
   },
   "file_extension": ".py",
   "mimetype": "text/x-python",
   "name": "python",
   "nbconvert_exporter": "python",
   "pygments_lexer": "ipython3",
   "version": "3.11.7"
  }
 },
 "nbformat": 4,
 "nbformat_minor": 5
}
