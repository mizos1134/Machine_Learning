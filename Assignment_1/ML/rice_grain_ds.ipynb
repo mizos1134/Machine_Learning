{
 "cells": [
  {
   "cell_type": "code",
   "execution_count": 2,
   "id": "29f1f96c-9528-4606-a7b6-6f780cca956d",
   "metadata": {},
   "outputs": [
    {
     "name": "stdout",
     "output_type": "stream",
     "text": [
      "Collecting ucimlrepo\n",
      "  Downloading ucimlrepo-0.0.6-py3-none-any.whl.metadata (5.3 kB)\n",
      "Downloading ucimlrepo-0.0.6-py3-none-any.whl (8.0 kB)\n",
      "Installing collected packages: ucimlrepo\n",
      "Successfully installed ucimlrepo-0.0.6\n",
      "Note: you may need to restart the kernel to use updated packages.\n"
     ]
    }
   ],
   "source": [
    "pip install ucimlrepo"
   ]
  },
  {
   "cell_type": "code",
   "execution_count": 3,
   "id": "bc91192a-60d7-4d00-a5cd-b31b1b156ca0",
   "metadata": {},
   "outputs": [
    {
     "name": "stdout",
     "output_type": "stream",
     "text": [
      "{'uci_id': 545, 'name': 'Rice (Cammeo and Osmancik)', 'repository_url': 'https://archive.ics.uci.edu/dataset/545/rice+cammeo+and+osmancik', 'data_url': 'https://archive.ics.uci.edu/static/public/545/data.csv', 'abstract': \"A total of 3810 rice grain's images were taken for the two species, processed and feature inferences were made. 7 morphological features were obtained for each grain of rice.\", 'area': 'Biology', 'tasks': ['Classification'], 'characteristics': ['Multivariate'], 'num_instances': 3810, 'num_features': 7, 'feature_types': ['Real'], 'demographics': [], 'target_col': ['Class'], 'index_col': None, 'has_missing_values': 'no', 'missing_values_symbol': None, 'year_of_dataset_creation': 2019, 'last_updated': 'Fri Nov 03 2023', 'dataset_doi': '10.24432/C5MW4Z', 'creators': [], 'intro_paper': {'title': 'Classification of Rice Varieties Using Artificial Intelligence Methods', 'authors': 'Ilkay Cinar, M. Koklu', 'published_in': 'International Journal of Intelligent Systems and Applications in Engineering', 'year': 2019, 'url': 'https://www.semanticscholar.org/paper/4e508bb906c8fdc04ead6f20bd8918fcb3605d1c', 'doi': '10.18201/ijisae.2019355381'}, 'additional_info': {'summary': \"Among  the certified rice grown in TURKEY,  the  Osmancik species, which has a large planting area since 1997 and the Cammeo species grown since 2014 have been selected for the study.  When  looking  at  the  general  characteristics  of  Osmancik species, they have a wide, long, glassy and dull appearance.  When looking at the general characteristics of the Cammeo species, they have wide and long, glassy and dull in appearance.  A total of 3810 rice grain's images were taken for the two species, processed and feature inferences were made. 7 morphological features were obtained for each grain of rice. \", 'purpose': None, 'funded_by': None, 'instances_represent': None, 'recommended_data_splits': None, 'sensitive_data': None, 'preprocessing_description': None, 'variable_info': '1.) Area: Returns  the  number  of  pixels  within  the boundaries of the rice grain.\\r\\n2.) Perimeter: Calculates the circumference by calculating  the  distance  between  pixels around the boundaries of the rice grain.\\r\\n3.) Major Axis Length: The longest line that can be drawn on the rice  grain,  i.e.  the  main  axis  distance, gives.\\r\\n4.) Minor Axis Length: The shortest line that can be drawn on the rice  grain,  i.e.  the  small  axis  distance, gives.\\r\\n5.) Eccentricity: It measures how round the ellipse, which has  the  same  moments  as  the  rice  grain, is.\\r\\n6.) Convex Area: Returns  the  pixel  count  of  the  smallest convex shell of the region formed by the rice grain.\\r\\n7.) Extent: Returns the ratio of the regionformed by the rice grain to the bounding box pixels.\\r\\n8.) Class: Cammeo and Osmancik rices', 'citation': None}}\n",
      "                name     role        type demographic  \\\n",
      "0               Area  Feature     Integer        None   \n",
      "1          Perimeter  Feature  Continuous        None   \n",
      "2  Major_Axis_Length  Feature  Continuous        None   \n",
      "3  Minor_Axis_Length  Feature  Continuous        None   \n",
      "4       Eccentricity  Feature  Continuous        None   \n",
      "5        Convex_Area  Feature     Integer        None   \n",
      "6             Extent  Feature  Continuous        None   \n",
      "7              Class   Target      Binary        None   \n",
      "\n",
      "                                         description units missing_values  \n",
      "0  Returns the number of pixels within the bounda...    px             no  \n",
      "1  Calculates the circumference by calculating th...    px             no  \n",
      "2  The longest line that can be drawn on the rice...  None             no  \n",
      "3  The shortest line that can be drawn on the ric...  None             no  \n",
      "4  It measures how round the ellipse, which has t...  None             no  \n",
      "5  Returns the pixel count of the smallest convex...  None             no  \n",
      "6  Returns the ratio of the region formed by the ...  None             no  \n",
      "7                                Cammeo and Osmancik  None             no  \n"
     ]
    }
   ],
   "source": [
    "from ucimlrepo import fetch_ucirepo \n",
    "  \n",
    "# fetch dataset \n",
    "rice_cammeo_and_osmancik = fetch_ucirepo(id=545) \n",
    "  \n",
    "# data (as pandas dataframes) \n",
    "X = rice_cammeo_and_osmancik.data.features \n",
    "y = rice_cammeo_and_osmancik.data.targets \n",
    "  \n",
    "# metadata \n",
    "print(rice_cammeo_and_osmancik.metadata) \n",
    "  \n",
    "# variable information \n",
    "print(rice_cammeo_and_osmancik.variables) \n"
   ]
  },
  {
   "cell_type": "code",
   "execution_count": 5,
   "id": "225933c4-882b-4e2f-b694-bf8d316d604e",
   "metadata": {},
   "outputs": [
    {
     "name": "stdout",
     "output_type": "stream",
     "text": [
      "    Area   Perimeter  Major_Axis_Length  Minor_Axis_Length  Eccentricity  \\\n",
      "0  15231  525.578979         229.749878          85.093788      0.928882   \n",
      "1  14656  494.311005         206.020065          91.730972      0.895405   \n",
      "2  14634  501.122009         214.106781          87.768288      0.912118   \n",
      "3  13176  458.342987         193.337387          87.448395      0.891861   \n",
      "4  14688  507.166992         211.743378          89.312454      0.906691   \n",
      "\n",
      "   Convex_Area    Extent   Class  \n",
      "0        15617  0.572896  Cammeo  \n",
      "1        15072  0.615436  Cammeo  \n",
      "2        14954  0.693259  Cammeo  \n",
      "3        13368  0.640669  Cammeo  \n",
      "4        15262  0.646024  Cammeo  \n",
      "               Area    Perimeter  Major_Axis_Length  Minor_Axis_Length  \\\n",
      "count   3810.000000  3810.000000        3810.000000        3810.000000   \n",
      "mean   12667.727559   454.239180         188.776222          86.313750   \n",
      "std     1732.367706    35.597081          17.448679           5.729817   \n",
      "min     7551.000000   359.100006         145.264465          59.532406   \n",
      "25%    11370.500000   426.144752         174.353855          82.731695   \n",
      "50%    12421.500000   448.852493         185.810059          86.434647   \n",
      "75%    13950.000000   483.683746         203.550438          90.143677   \n",
      "max    18913.000000   548.445984         239.010498         107.542450   \n",
      "\n",
      "       Eccentricity   Convex_Area       Extent  \n",
      "count   3810.000000   3810.000000  3810.000000  \n",
      "mean       0.886871  12952.496850     0.661934  \n",
      "std        0.020818   1776.972042     0.077239  \n",
      "min        0.777233   7723.000000     0.497413  \n",
      "25%        0.872402  11626.250000     0.598862  \n",
      "50%        0.889050  12706.500000     0.645361  \n",
      "75%        0.902588  14284.000000     0.726562  \n",
      "max        0.948007  19099.000000     0.861050  \n",
      "Class\n",
      "Osmancik    2180\n",
      "Cammeo      1630\n",
      "Name: count, dtype: int64\n",
      "Area                 0\n",
      "Perimeter            0\n",
      "Major_Axis_Length    0\n",
      "Minor_Axis_Length    0\n",
      "Eccentricity         0\n",
      "Convex_Area          0\n",
      "Extent               0\n",
      "Class                0\n",
      "dtype: int64\n"
     ]
    }
   ],
   "source": [
    "import pandas as pd\n",
    "\n",
    "# Load the dataset\n",
    "data_url = 'https://archive.ics.uci.edu/static/public/545/data.csv'\n",
    "df = pd.read_csv(data_url)\n",
    "\n",
    "# Initial exploration\n",
    "print(df.head())  # Print the first few rows to understand feature types and values\n",
    "print(df.describe())  # Get a statistical summary of the features\n",
    "print(df['Class'].value_counts())  # Check the balance between classes\n",
    "\n",
    "# Ensure that the Class column is binary encoded\n",
    "class_mapping = {'Cammeo': 0, 'Osmancik': 1}\n",
    "df['Class'] = df['Class'].map(class_mapping)\n",
    "\n",
    "# Checking for any missing values\n",
    "print(df.isnull().sum())  # This should return all zeros indicating no missing values\n",
    "\n"
   ]
  },
  {
   "cell_type": "code",
   "execution_count": 7,
   "id": "c31a9b6c-7545-4b3c-b6bb-5d825c53c50d",
   "metadata": {},
   "outputs": [
    {
     "name": "stdout",
     "output_type": "stream",
     "text": [
      "       Area  Perimeter  Major_Axis_Length  Minor_Axis_Length  Eccentricity  \\\n",
      "0  0.675937   0.879232           0.901216           0.532417      0.888011   \n",
      "1  0.625330   0.714095           0.648087           0.670663      0.691980   \n",
      "2  0.623394   0.750066           0.734349           0.588124      0.789846   \n",
      "3  0.495071   0.524136           0.512800           0.581461      0.671227   \n",
      "4  0.628146   0.781992           0.709138           0.620288      0.758067   \n",
      "\n",
      "   Convex_Area    Extent  Class  \n",
      "0     0.693917  0.207577      0  \n",
      "1     0.646009  0.324564      0  \n",
      "2     0.635636  0.538576      0  \n",
      "3     0.496220  0.393954      0  \n",
      "4     0.662711  0.408680      0  \n"
     ]
    }
   ],
   "source": [
    "# Normalize the feature columns\n",
    "features = df.columns[:-1]  # Exclude the target 'Class' column\n",
    "for feature in features:\n",
    "    df[feature] = (df[feature] - df[feature].min()) / (df[feature].max() - df[feature].min())\n",
    "\n",
    "print(df.head())  # Check the first few rows to ensure normalization\n"
   ]
  },
  {
   "cell_type": "code",
   "execution_count": 8,
   "id": "d6f081ad-d636-4c13-807e-a765501f06a9",
   "metadata": {},
   "outputs": [
    {
     "name": "stdout",
     "output_type": "stream",
     "text": [
      "Training set size: (3048, 7)\n",
      "Validation set size: (762, 7)\n"
     ]
    }
   ],
   "source": [
    "# Manually split the data into training and validation sets\n",
    "train_size = int(0.8 * len(df))\n",
    "df = df.sample(frac=1).reset_index(drop=True)  # Shuffle the dataset\n",
    "\n",
    "train_df = df[:train_size]\n",
    "validation_df = df[train_size:]\n",
    "\n",
    "# Separate the feature vectors and target values for both sets\n",
    "X_train = train_df[features].values\n",
    "y_train = train_df['Class'].values\n",
    "\n",
    "X_validation = validation_df[features].values\n",
    "y_validation = validation_df['Class'].values\n",
    "\n",
    "print(\"Training set size:\", X_train.shape)\n",
    "print(\"Validation set size:\", X_validation.shape)\n"
   ]
  },
  {
   "cell_type": "code",
   "execution_count": 9,
   "id": "e1918471-34b5-48d4-bb92-75bcd9006e11",
   "metadata": {},
   "outputs": [],
   "source": [
    "# Define K-fold cross validation parameters\n",
    "K = 5\n",
    "fold_size = int(len(df) / K)\n",
    "folds = []\n",
    "\n",
    "# Create the folds\n",
    "for i in range(K):\n",
    "    start = i * fold_size\n",
    "    end = start + fold_size if i != K - 1 else len(df)\n",
    "    folds.append(df[start:end])\n",
    "# Define a range for the regularization parameter lambda\n",
    "lambda_values = [0.01, 0.1, 1, 10, 100]\n"
   ]
  },
  {
   "cell_type": "code",
   "execution_count": 11,
   "id": "103c0ff5-c985-4d98-9370-9c4b6fbc6723",
   "metadata": {},
   "outputs": [],
   "source": [
    "import numpy as np\n",
    "\n",
    "def sigmoid(z):\n",
    "    return 1 / (1 + np.exp(-z))\n",
    "\n",
    "def logistic_regression(X, y, lambda_val, learning_rate=0.01, max_iter=1000):\n",
    "    # Initialize weights\n",
    "    weights = np.zeros(X.shape[1])\n",
    "\n",
    "    # Gradient descent to optimize weights\n",
    "    for _ in range(max_iter):\n",
    "        z = np.dot(X, weights)\n",
    "        predictions = sigmoid(z)\n",
    "        # Compute the gradient of the loss function with regularization\n",
    "        gradient = np.dot(X.T, (predictions - y)) / len(y) + lambda_val * weights / len(y)\n",
    "        # Update weights\n",
    "        weights -= learning_rate * gradient\n",
    "\n",
    "    return weights\n",
    "\n",
    "def predict_proba(X, weights):\n",
    "    # Predict probabilities using logistic regression\n",
    "    z = np.dot(X, weights)\n",
    "    return sigmoid(z)\n",
    "\n",
    "def predict(X, weights, threshold=0.5):\n",
    "    # Convert probabilities to binary predictions\n",
    "    return (predict_proba(X, weights) >= threshold).astype(int)\n"
   ]
  },
  {
   "cell_type": "code",
   "execution_count": 12,
   "id": "07fc3a5d-094f-4011-824d-2ca8b285bc52",
   "metadata": {},
   "outputs": [],
   "source": [
    "def evaluate_performance(predictions, actual):\n",
    "    # Calculate accuracy\n",
    "    correct_predictions = np.sum(predictions == actual)\n",
    "    accuracy = correct_predictions / len(actual)\n",
    "    return accuracy\n"
   ]
  },
  {
   "cell_type": "code",
   "execution_count": 13,
   "id": "39f7c9ce-fb9f-44d1-9c3f-6fa838f407e3",
   "metadata": {},
   "outputs": [
    {
     "name": "stdout",
     "output_type": "stream",
     "text": [
      "Best lambda: 10\n",
      "Performance for each lambda: {0.01: 0.8041994750656167, 0.1: 0.8041994750656167, 1: 0.8044619422572179, 10: 0.8049868766404199, 100: 0.7997375328083989}\n"
     ]
    }
   ],
   "source": [
    "def k_fold_cross_validation(df, K, lambda_values):\n",
    "    # Split data into K folds\n",
    "    fold_size = int(len(df) / K)\n",
    "    folds = [df.iloc[i*fold_size:(i+1)*fold_size] if i<K-1 else df.iloc[i*fold_size:] for i in range(K)]\n",
    "\n",
    "    # Dictionary to store performance for each lambda value\n",
    "    performance_scores = {lambda_val: [] for lambda_val in lambda_values}\n",
    "\n",
    "    # Cross-validation\n",
    "    for lambda_val in lambda_values:\n",
    "        for i in range(K):\n",
    "            validation_fold = folds[i]\n",
    "            train_folds = pd.concat([folds[j] for j in range(K) if j != i])\n",
    "\n",
    "            # Training and validation data\n",
    "            X_train = train_folds[features].values\n",
    "            y_train = train_folds['Class'].values\n",
    "            X_val = validation_fold[features].values\n",
    "            y_val = validation_fold['Class'].values\n",
    "\n",
    "            # Train the model\n",
    "            weights = logistic_regression(X_train, y_train, lambda_val)\n",
    "\n",
    "            # Validation\n",
    "            predictions = predict(X_val, weights)\n",
    "            performance = evaluate_performance(predictions, y_val)\n",
    "\n",
    "            performance_scores[lambda_val].append(performance)\n",
    "\n",
    "    # Average performance for each lambda\n",
    "    average_performance = {lambda_val: np.mean(scores) for lambda_val, scores in performance_scores.items()}\n",
    "    best_lambda = max(average_performance, key=average_performance.get)\n",
    "\n",
    "    return best_lambda, average_performance\n",
    "\n",
    "# Example usage\n",
    "lambda_values = [0.01, 0.1, 1, 10, 100]\n",
    "best_lambda, average_performance = k_fold_cross_validation(df, 5, lambda_values)\n",
    "print(\"Best lambda:\", best_lambda)\n",
    "print(\"Performance for each lambda:\", average_performance)\n"
   ]
  },
  {
   "cell_type": "code",
   "execution_count": 15,
   "id": "34246ab4-9e10-4583-a928-b5985a9b0bd2",
   "metadata": {},
   "outputs": [],
   "source": [
    "def sigmoid(z):\n",
    "    \"\"\"Return the logistic sigmoid function.\"\"\"\n",
    "    return 1 / (1 + np.exp(-z))\n",
    "\n",
    "def logistic_regression_GD(X, y, learning_rate=0.01, max_iter=1000):\n",
    "    \"\"\"Train logistic regression model using gradient descent.\"\"\"\n",
    "    weights = np.zeros(X.shape[1])  # Initialize weights to zeros\n",
    "    for _ in range(max_iter):\n",
    "        z = np.dot(X, weights)\n",
    "        predictions = sigmoid(z)\n",
    "        errors = y - predictions\n",
    "        gradient = np.dot(X.T, errors) / len(y)\n",
    "        weights += learning_rate * gradient\n",
    "    return weights\n",
    "\n",
    "# Assume X_train, y_train are prepared and are numeric arrays\n",
    "# Assume 'features' are the column names of the features used\n"
   ]
  },
  {
   "cell_type": "code",
   "execution_count": 16,
   "id": "b7d38701-645b-4ab5-9428-6c3dad90e9a5",
   "metadata": {},
   "outputs": [
    {
     "name": "stdout",
     "output_type": "stream",
     "text": [
      "Training Accuracy for Logistic Regression with GD: 0.7913385826771654\n",
      "Test Accuracy for Logistic Regression with GD: 0.7716535433070866\n"
     ]
    }
   ],
   "source": [
    "def predict(X, weights, threshold=0.5):\n",
    "    \"\"\"Make predictions using logistic regression weights.\"\"\"\n",
    "    probabilities = sigmoid(np.dot(X, weights))\n",
    "    return (probabilities >= threshold).astype(int)\n",
    "\n",
    "def evaluate_performance(predictions, actual):\n",
    "    \"\"\"Evaluate model performance based on accuracy.\"\"\"\n",
    "    correct_predictions = np.sum(predictions == actual)\n",
    "    accuracy = correct_predictions / len(actual)\n",
    "    return accuracy\n",
    "\n",
    "# Train the model\n",
    "weights_gd = logistic_regression_GD(X_train, y_train)\n",
    "\n",
    "# Making predictions\n",
    "predictions_train = predict(X_train, weights_gd)\n",
    "predictions_test = predict(X_validation, weights_gd)  # Using validation set as test set\n",
    "\n",
    "# Evaluating performance\n",
    "accuracy_train = evaluate_performance(predictions_train, y_train)\n",
    "accuracy_test = evaluate_performance(predictions_test, y_validation)  # Using validation as test\n",
    "\n",
    "# Print results\n",
    "print(\"Training Accuracy for Logistic Regression with GD:\", accuracy_train)\n",
    "print(\"Test Accuracy for Logistic Regression with GD:\", accuracy_test)\n"
   ]
  },
  {
   "cell_type": "code",
   "execution_count": 18,
   "id": "880d092f-e794-4f57-b235-36cf1df186fa",
   "metadata": {},
   "outputs": [],
   "source": [
    "def logistic_regression_SGD(X, y, learning_rate=0.01, max_iter=1000):\n",
    "    \"\"\"Train logistic regression model using stochastic gradient descent.\"\"\"\n",
    "    weights = np.zeros(X.shape[1])  # Initialize weights to zeros\n",
    "    for _ in range(max_iter):\n",
    "        for i in range(len(y)):\n",
    "            xi = X[i, :]\n",
    "            yi = y[i]\n",
    "            z = np.dot(xi, weights)\n",
    "            prediction = sigmoid(z)\n",
    "            error = yi - prediction\n",
    "            gradient = xi * error\n",
    "            weights += learning_rate * gradient\n",
    "    return weights\n",
    "\n",
    "# Train the model using SGD\n",
    "weights_sgd = logistic_regression_SGD(X_train, y_train)\n"
   ]
  },
  {
   "cell_type": "code",
   "execution_count": 19,
   "id": "644474c2-a7c8-49ea-bc37-2b450f5b90fb",
   "metadata": {},
   "outputs": [
    {
     "name": "stdout",
     "output_type": "stream",
     "text": [
      "Training Accuracy for Logistic Regression with SGD: 0.9261811023622047\n",
      "Test Accuracy for Logistic Regression with SGD: 0.9409448818897638\n"
     ]
    }
   ],
   "source": [
    "# Making predictions\n",
    "predictions_train_sgd = predict(X_train, weights_sgd)\n",
    "predictions_test_sgd = predict(X_validation, weights_sgd)  # Using validation set as test set\n",
    "\n",
    "# Evaluating performance\n",
    "accuracy_train_sgd = evaluate_performance(predictions_train_sgd, y_train)\n",
    "accuracy_test_sgd = evaluate_performance(predictions_test_sgd, y_validation)  # Using validation as test\n",
    "\n",
    "# Print results\n",
    "print(\"Training Accuracy for Logistic Regression with SGD:\", accuracy_train_sgd)\n",
    "print(\"Test Accuracy for Logistic Regression with SGD:\", accuracy_test_sgd)\n"
   ]
  },
  {
   "cell_type": "code",
   "execution_count": 20,
   "id": "5d9c5f04-914b-40c1-a2bd-fb5b527192b7",
   "metadata": {},
   "outputs": [],
   "source": [
    "def logistic_regression_L2_GD(X, y, lambda_val, learning_rate=0.01, max_iter=1000):\n",
    "    \"\"\"Train logistic regression model with L2 regularization using gradient descent.\"\"\"\n",
    "    weights = np.zeros(X.shape[1])  # Initialize weights to zeros\n",
    "    for _ in range(max_iter):\n",
    "        z = np.dot(X, weights)\n",
    "        predictions = sigmoid(z)\n",
    "        errors = y - predictions\n",
    "        # Update weights - include the L2 regularization term\n",
    "        gradient = np.dot(X.T, errors) / len(y) + lambda_val * weights / len(y)\n",
    "        weights -= learning_rate * gradient\n",
    "    return weights\n",
    "\n",
    "# Choose a lambda value for L2 regularization, typically determined via cross-validation\n",
    "lambda_val = 0.1  # Example value, adjust based on cross-validation results\n",
    "\n",
    "# Train the model using GD with L2 regularization\n",
    "weights_l2_gd = logistic_regression_L2_GD(X_train, y_train, lambda_val)\n"
   ]
  },
  {
   "cell_type": "code",
   "execution_count": 21,
   "id": "6b633c41-b683-4302-a4b1-a64883329176",
   "metadata": {},
   "outputs": [
    {
     "name": "stdout",
     "output_type": "stream",
     "text": [
      "Training Accuracy for Logistic Regression with L2 Regularization (GD): 0.5666010498687664\n",
      "Test Accuracy for Logistic Regression with L2 Regularization (GD): 0.594488188976378\n"
     ]
    }
   ],
   "source": [
    "# Making predictions\n",
    "predictions_train_l2_gd = predict(X_train, weights_l2_gd)\n",
    "predictions_test_l2_gd = predict(X_validation, weights_l2_gd)  # Using validation set as test set\n",
    "\n",
    "# Evaluating performance\n",
    "accuracy_train_l2_gd = evaluate_performance(predictions_train_l2_gd, y_train)\n",
    "accuracy_test_l2_gd = evaluate_performance(predictions_test_l2_gd, y_validation)  # Using validation as test\n",
    "\n",
    "# Print results\n",
    "print(\"Training Accuracy for Logistic Regression with L2 Regularization (GD):\", accuracy_train_l2_gd)\n",
    "print(\"Test Accuracy for Logistic Regression with L2 Regularization (GD):\", accuracy_test_l2_gd)\n"
   ]
  },
  {
   "cell_type": "code",
   "execution_count": 22,
   "id": "5c94c753-07ff-4e3b-b106-730b26ff23e1",
   "metadata": {},
   "outputs": [],
   "source": [
    "def logistic_regression_L2_SGD(X, y, lambda_val, learning_rate=0.01, max_iter=1000):\n",
    "    \"\"\"Train logistic regression model with L2 regularization using stochastic gradient descent.\"\"\"\n",
    "    weights = np.zeros(X.shape[1])  # Initialize weights to zeros\n",
    "    for _ in range(max_iter):\n",
    "        for i in range(len(y)):\n",
    "            xi = X[i, :]\n",
    "            yi = y[i]\n",
    "            z = np.dot(xi, weights)\n",
    "            prediction = sigmoid(z)\n",
    "            error = yi - prediction\n",
    "            # Update weights - include the L2 regularization term\n",
    "            gradient = xi * error + lambda_val * weights\n",
    "            weights -= learning_rate * gradient\n",
    "    return weights\n",
    "\n",
    "# Choose a lambda value for L2 regularization, this should ideally be validated\n",
    "lambda_val = 0.1  # Example value, adjust based on cross-validation results\n",
    "\n",
    "# Train the model using SGD with L2 regularization\n",
    "weights_l2_sgd = logistic_regression_L2_SGD(X_train, y_train, lambda_val)\n"
   ]
  },
  {
   "cell_type": "code",
   "execution_count": 23,
   "id": "c6526125-88fa-47bc-8ad2-e068ebf20a0d",
   "metadata": {},
   "outputs": [
    {
     "name": "stdout",
     "output_type": "stream",
     "text": [
      "Training Accuracy for Logistic Regression with L2 Regularization (SGD): 0.5666010498687664\n",
      "Test Accuracy for Logistic Regression with L2 Regularization (SGD): 0.594488188976378\n"
     ]
    }
   ],
   "source": [
    "# Making predictions\n",
    "predictions_train_l2_sgd = predict(X_train, weights_l2_sgd)\n",
    "predictions_test_l2_sgd = predict(X_validation, weights_l2_sgd)  # Using validation set as test set\n",
    "\n",
    "# Evaluating performance\n",
    "accuracy_train_l2_sgd = evaluate_performance(predictions_train_l2_sgd, y_train)\n",
    "accuracy_test_l2_sgd = evaluate_performance(predictions_test_l2_sgd, y_validation)  # Using validation as test\n",
    "\n",
    "# Print results\n",
    "print(\"Training Accuracy for Logistic Regression with L2 Regularization (SGD):\", accuracy_train_l2_sgd)\n",
    "print(\"Test Accuracy for Logistic Regression with L2 Regularization (SGD):\", accuracy_test_l2_sgd)\n"
   ]
  },
  {
   "cell_type": "code",
   "execution_count": 24,
   "id": "b45b76af-f062-4d10-9a94-bb9e31880478",
   "metadata": {},
   "outputs": [
    {
     "name": "stdout",
     "output_type": "stream",
     "text": [
      "Model Description                                 Training Accuracy   Test Accuracy\n",
      "Logistic Regression with GD                       0.7913385826771654  0.7716535433070866\n",
      "Logistic Regression with SGD                      0.9261811023622047  0.9409448818897638\n",
      "Logistic Regression with L2 Regularization (GD)   0.5666010498687664  0.594488188976378\n",
      "Logistic Regression with L2 Regularization (SGD)  0.5666010498687664  0.594488188976378\n"
     ]
    }
   ],
   "source": [
    "# Results data structure\n",
    "results = [\n",
    "    [\"Logistic Regression with GD\", accuracy_train, accuracy_test],\n",
    "    [\"Logistic Regression with SGD\", accuracy_train_sgd, accuracy_test_sgd],\n",
    "    [\"Logistic Regression with L2 Regularization (GD)\", accuracy_train_l2_gd, accuracy_test_l2_gd],\n",
    "    [\"Logistic Regression with L2 Regularization (SGD)\", accuracy_train_l2_sgd, accuracy_test_l2_sgd]\n",
    "]\n",
    "\n",
    "# Print the results as a formatted table\n",
    "print(f\"{'Model Description':<50}{'Training Accuracy':<20}{'Test Accuracy'}\")\n",
    "for model_result in results:\n",
    "    print(f\"{model_result[0]:<50}{model_result[1]:<20}{model_result[2]}\")"
   ]
  },
  {
   "cell_type": "code",
   "execution_count": 30,
   "id": "8c65af5a-134d-4c1e-9787-ac791af5d16e",
   "metadata": {},
   "outputs": [
    {
     "name": "stdout",
     "output_type": "stream",
     "text": [
      "Training Time for GD: 0.2555098533630371\n",
      "Training Time for SGD: 14.455245733261108\n"
     ]
    },
    {
     "data": {
      "image/png": "[encoded data removed]",
      "text/plain": [
       "<Figure size 1000x600 with 1 Axes>"
      ]
     },
     "metadata": {},
     "output_type": "display_data"
    }
   ],
   "source": [
    "import time\n",
    "\n",
    "def compute_loss(X, y, weights, lambda_val):\n",
    "    predictions = sigmoid(np.dot(X, weights))\n",
    "    # Logistic loss with L2 regularization\n",
    "    loss = -np.mean(y * np.log(predictions) + (1 - y) * np.log(1 - predictions)) + (lambda_val / 2) * np.sum(weights ** 2)\n",
    "    return loss\n",
    "\n",
    "def logistic_regression_GD_with_timing(X, y, lambda_val, learning_rate=0.01, max_iter=1000):\n",
    "    weights = np.zeros(X.shape[1])\n",
    "    loss_values = []\n",
    "    start_time = time.time()\n",
    "    for _ in range(max_iter):\n",
    "        weights = logistic_regression_GD(X, y, learning_rate, 1)  # GD for 1 iteration\n",
    "        loss = compute_loss(X, y, weights, lambda_val)\n",
    "        loss_values.append(loss)\n",
    "    training_time = time.time() - start_time\n",
    "    return weights, loss_values, training_time\n",
    "\n",
    "def logistic_regression_SGD_with_timing(X, y, lambda_val, learning_rate=0.01, max_iter=1000):\n",
    "    weights = np.zeros(X.shape[1])\n",
    "    loss_values = []\n",
    "    start_time = time.time()\n",
    "    for _ in range(max_iter):\n",
    "        for i in range(len(y)):\n",
    "            weights = logistic_regression_SGD(X[i:i+1], y[i:i+1], learning_rate, 1)  # SGD for 1 epoch\n",
    "        loss = compute_loss(X, y, weights, lambda_val)\n",
    "        loss_values.append(loss)\n",
    "    training_time = time.time() - start_time\n",
    "    return weights, loss_values, training_time\n",
    "# Define a lambda value for L2 regularization\n",
    "lambda_val = 0.1\n",
    "\n",
    "# Train models and record loss and training time\n",
    "weights_gd, loss_values_gd, training_time_gd = logistic_regression_GD_with_timing(X_train, y_train, lambda_val)\n",
    "weights_sgd, loss_values_sgd, training_time_sgd = logistic_regression_SGD_with_timing(X_train, y_train, lambda_val)\n",
    "\n",
    "print(\"Training Time for GD:\", training_time_gd)\n",
    "print(\"Training Time for SGD:\", training_time_sgd)\n",
    "import matplotlib.pyplot as plt\n",
    "\n",
    "# Plot the loss values\n",
    "plt.figure(figsize=(10, 6))\n",
    "plt.plot(loss_values_gd, label='Gradient Descent')\n",
    "plt.plot(loss_values_sgd, label='Stochastic Gradient Descent')\n",
    "plt.title('Loss Values over Iterations')\n",
    "plt.xlabel('Iteration / Epoch')\n",
    "plt.ylabel('Loss Value')\n",
    "plt.legend()\n",
    "plt.show()\n"
   ]
  },
  {
   "cell_type": "code",
   "execution_count": 34,
   "id": "510b76f2-62d2-4916-a26c-964324ef4d8d",
   "metadata": {},
   "outputs": [],
   "source": [
    "def logistic_regression_SGD_with_timing(X, y, lambda_val, learning_rate=0.01, max_iter=1000):\n",
    "    weights = np.zeros(X.shape[1])\n",
    "    loss_values = []\n",
    "    start_time = time.time()\n",
    "    for epoch in range(max_iter):\n",
    "        for i in np.random.permutation(len(y)):\n",
    "            xi = X[i:i+1].reshape(-1)  # Make sure xi is a flat array\n",
    "            yi = np.array([y[i]])  # yi should be a single-element array\n",
    "            prediction = sigmoid(np.dot(xi, weights))\n",
    "            error = yi - prediction\n",
    "            gradient = xi * error + lambda_val * weights\n",
    "            weights -= learning_rate * gradient.reshape(weights.shape)  # Ensure gradient is shaped correctly\n",
    "        loss_values.append(compute_loss(X, y, weights, lambda_val))\n",
    "        learning_rate = lr_schedule(epoch, learning_rate)  # Update learning rate\n",
    "    training_time = time.time() - start_time\n",
    "    return weights, loss_values, training_time\n"
   ]
  },
  {
   "cell_type": "code",
   "execution_count": 35,
   "id": "ef6669d4-7577-487f-8fb8-67ccfdddf753",
   "metadata": {},
   "outputs": [],
   "source": [
    "def decay_lr_schedule(epoch, current_lr, decay_rate=0.95):\n",
    "    \"\"\"Decay the learning rate after each epoch.\"\"\"\n",
    "    return current_lr * decay_rate\n",
    "\n",
    "def oscillating_lr_schedule(epoch, current_lr, base_lr, max_lr, step_size=10):\n",
    "    \"\"\"Oscillate the learning rate within a range.\"\"\"\n",
    "    cycle = np.floor(1 + epoch / (2 * step_size))\n",
    "    x = np.abs(epoch / step_size - 2 * cycle + 1)\n",
    "    return base_lr + (max_lr - base_lr) * np.maximum(0, (1 - x))\n"
   ]
  },
  {
   "cell_type": "code",
   "execution_count": null,
   "id": "4ad76c40-f38a-437c-b8f6-76af4479ae0c",
   "metadata": {},
   "outputs": [],
   "source": []
  }
 ],
 "metadata": {
  "kernelspec": {
   "display_name": "Python 3 (ipykernel)",
   "language": "python",
   "name": "python3"
  },
  "language_info": {
   "codemirror_mode": {
    "name": "ipython",
    "version": 3
   },
   "file_extension": ".py",
   "mimetype": "text/x-python",
   "name": "python",
   "nbconvert_exporter": "python",
   "pygments_lexer": "ipython3",
   "version": "3.11.7"
  }
 },
 "nbformat": 4,
 "nbformat_minor": 5
}
