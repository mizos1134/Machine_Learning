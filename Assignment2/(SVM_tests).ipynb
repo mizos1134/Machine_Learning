{
 "cells": [
  {
   "cell_type": "code",
   "execution_count": 6,
   "id": "1de67202",
   "metadata": {},
   "outputs": [
    {
     "name": "stdout",
     "output_type": "stream",
     "text": [
      "Requirement already satisfied: numpy in /opt/anaconda3/lib/python3.11/site-packages (1.26.4)\n",
      "Requirement already satisfied: matplotlib in /opt/anaconda3/lib/python3.11/site-packages (3.8.0)\n",
      "Requirement already satisfied: scikit-learn in /opt/anaconda3/lib/python3.11/site-packages (1.2.2)\n",
      "Requirement already satisfied: contourpy>=1.0.1 in /opt/anaconda3/lib/python3.11/site-packages (from matplotlib) (1.2.0)\n",
      "Requirement already satisfied: cycler>=0.10 in /opt/anaconda3/lib/python3.11/site-packages (from matplotlib) (0.11.0)\n",
      "Requirement already satisfied: fonttools>=4.22.0 in /opt/anaconda3/lib/python3.11/site-packages (from matplotlib) (4.25.0)\n",
      "Requirement already satisfied: kiwisolver>=1.0.1 in /opt/anaconda3/lib/python3.11/site-packages (from matplotlib) (1.4.4)\n",
      "Requirement already satisfied: packaging>=20.0 in /opt/anaconda3/lib/python3.11/site-packages (from matplotlib) (23.1)\n",
      "Requirement already satisfied: pillow>=6.2.0 in /opt/anaconda3/lib/python3.11/site-packages (from matplotlib) (10.2.0)\n",
      "Requirement already satisfied: pyparsing>=2.3.1 in /opt/anaconda3/lib/python3.11/site-packages (from matplotlib) (3.0.9)\n",
      "Requirement already satisfied: python-dateutil>=2.7 in /opt/anaconda3/lib/python3.11/site-packages (from matplotlib) (2.8.2)\n",
      "Requirement already satisfied: scipy>=1.3.2 in /opt/anaconda3/lib/python3.11/site-packages (from scikit-learn) (1.11.4)\n",
      "Requirement already satisfied: joblib>=1.1.1 in /opt/anaconda3/lib/python3.11/site-packages (from scikit-learn) (1.2.0)\n",
      "Requirement already satisfied: threadpoolctl>=2.0.0 in /opt/anaconda3/lib/python3.11/site-packages (from scikit-learn) (2.2.0)\n",
      "Requirement already satisfied: six>=1.5 in /opt/anaconda3/lib/python3.11/site-packages (from python-dateutil>=2.7->matplotlib) (1.16.0)\n",
      "Note: you may need to restart the kernel to use updated packages.\n"
     ]
    }
   ],
   "source": [
    "pip install numpy matplotlib scikit-learn"
   ]
  },
  {
   "cell_type": "code",
   "execution_count": 14,
   "id": "917e3dc9",
   "metadata": {},
   "outputs": [
    {
     "name": "stderr",
     "output_type": "stream",
     "text": [
      "/opt/anaconda3/lib/python3.11/site-packages/sklearn/datasets/_openml.py:968: FutureWarning: The default value of `parser` will change from `'liac-arff'` to `'auto'` in 1.4. You can set `parser='auto'` to silence this warning. Therefore, an `ImportError` will be raised from 1.4 if the dataset is dense and pandas is not installed. Note that the pandas parser may return different data types. See the Notes Section in fetch_openml's API doc for details.\n",
      "  warn(\n"
     ]
    },
    {
     "name": "stdout",
     "output_type": "stream",
     "text": [
      "Data type: float64\n",
      "Target type: int64\n"
     ]
    },
    {
     "data": {
      "image/png": "[encoded data removed]",
      "text/plain": [
       "<Figure size 1000x300 with 4 Axes>"
      ]
     },
     "metadata": {},
     "output_type": "display_data"
    }
   ],
   "source": [
    "import pandas as pd\n",
    "from sklearn.datasets import fetch_openml\n",
    "import numpy as np\n",
    "import matplotlib.pyplot as plt\n",
    "from sklearn.model_selection import train_test_split\n",
    "from sklearn.preprocessing import StandardScaler\n",
    "\n",
    "# Load MNIST dataset\n",
    "mnist = fetch_openml('mnist_784', version=1)\n",
    "X, y = mnist.data, mnist.target\n",
    "\n",
    "# Check if X is a DataFrame and convert if necessary\n",
    "if isinstance(X, pd.DataFrame):\n",
    "    X = X.to_numpy()\n",
    "if isinstance(y, pd.Series):\n",
    "    y = y.to_numpy().astype(int)  # Ensure y is numpy array and type int\n",
    "\n",
    "# Filter the data for digits 2, 3, 8, 9\n",
    "selected_digits = [2, 3, 8, 9]\n",
    "mask = np.isin(y, selected_digits)\n",
    "X, y = X[mask], y[mask]\n",
    "\n",
    "# Reset the index if y is a pandas Series\n",
    "if isinstance(y, pd.Series):\n",
    "    y.reset_index(drop=True, inplace=True)\n",
    "\n",
    "# Balance the data for equal class representation\n",
    "def balance_data(X, y, samples_per_class):\n",
    "    unique_classes = np.unique(y)\n",
    "    indices = []\n",
    "    for cls in unique_classes:\n",
    "        cls_indices = np.where(y == cls)[0]\n",
    "        selected_indices = np.random.choice(cls_indices, samples_per_class, replace=False)\n",
    "        indices.extend(selected_indices)\n",
    "    return X[indices], y[indices]\n",
    "\n",
    "# Set the number of samples per class for training and test sets\n",
    "samples_per_class = 5000\n",
    "X_balanced, y_balanced = balance_data(X, y, samples_per_class)\n",
    "\n",
    "# Split into training and test sets using a proportion for the training size\n",
    "X_train, X_test, y_train, y_test = train_test_split(\n",
    "    X_balanced, y_balanced, \n",
    "    train_size=0.8333,  # This represents roughly 20,000 samples if the total is 24,000\n",
    "    random_state=42, \n",
    "    stratify=y_balanced\n",
    ")\n",
    "\n",
    "# Normalize the data\n",
    "scaler = StandardScaler()\n",
    "X_train = scaler.fit_transform(X_train)\n",
    "X_test = scaler.transform(X_test)\n",
    "\n",
    "# Check data types\n",
    "print(\"Data type:\", X_train.dtype)\n",
    "print(\"Target type:\", y_train.dtype)\n",
    "\n",
    "# Function to plot sample images directly with NumPy arrays\n",
    "def plot_digits(data):\n",
    "    fig, axes = plt.subplots(1, 4, figsize=(10, 3))\n",
    "    for ax, image in zip(axes, data):\n",
    "        ax.imshow(image.reshape(28, 28), cmap='gray')\n",
    "        ax.axis('off')\n",
    "    plt.show()\n",
    "\n",
    "# Plot sample images without needing to call .values\n",
    "plot_digits(X_train[:4])"
   ]
  },
  {
   "cell_type": "code",
   "execution_count": 15,
   "id": "2cfbdd23",
   "metadata": {},
   "outputs": [
    {
     "name": "stdout",
     "output_type": "stream",
     "text": [
      "Collecting cvxopt\n",
      "  Downloading cvxopt-1.3.2-cp311-cp311-macosx_11_0_arm64.whl.metadata (1.3 kB)\n",
      "Downloading cvxopt-1.3.2-cp311-cp311-macosx_11_0_arm64.whl (11.1 MB)\n",
      "\u001b[2K   \u001b[90m━━━━━━━━━━━━━━━━━━━━━━━━━━━━━━━━━━━━━━━━\u001b[0m \u001b[32m11.1/11.1 MB\u001b[0m \u001b[31m1.5 MB/s\u001b[0m eta \u001b[36m0:00:00\u001b[0m00:01\u001b[0m00:01\u001b[0mm\n",
      "\u001b[?25hInstalling collected packages: cvxopt\n",
      "Successfully installed cvxopt-1.3.2\n",
      "Note: you may need to restart the kernel to use updated packages.\n"
     ]
    }
   ],
   "source": [
    "pip install cvxopt"
   ]
  },
  {
   "cell_type": "code",
   "execution_count": 17,
   "id": "51834fe9",
   "metadata": {},
   "outputs": [
    {
     "ename": "TypeError",
     "evalue": "'P' must be a 'd' matrix of size (17451, 17451)",
     "output_type": "error",
     "traceback": [
      "\u001b[0;31m---------------------------------------------------------------------------\u001b[0m",
      "\u001b[0;31mTypeError\u001b[0m                                 Traceback (most recent call last)",
      "Cell \u001b[0;32mIn[17], line 38\u001b[0m\n\u001b[1;32m     36\u001b[0m \u001b[38;5;28;01mfor\u001b[39;00m digit \u001b[38;5;129;01min\u001b[39;00m selected_digits:\n\u001b[1;32m     37\u001b[0m     y_binary \u001b[38;5;241m=\u001b[39m np\u001b[38;5;241m.\u001b[39mwhere(y_train \u001b[38;5;241m==\u001b[39m digit, \u001b[38;5;241m1\u001b[39m, \u001b[38;5;241m-\u001b[39m\u001b[38;5;241m1\u001b[39m)\n\u001b[0;32m---> 38\u001b[0m     w, b \u001b[38;5;241m=\u001b[39m train_svm(X_train, y_binary, C\u001b[38;5;241m=\u001b[39m\u001b[38;5;241m0.1\u001b[39m)  \u001b[38;5;66;03m# Using a smaller C for simplicity\u001b[39;00m\n\u001b[1;32m     39\u001b[0m     classifiers[digit] \u001b[38;5;241m=\u001b[39m (w, b)\n\u001b[1;32m     41\u001b[0m \u001b[38;5;28;01mdef\u001b[39;00m \u001b[38;5;21mpredict\u001b[39m(X, classifiers):\n",
      "Cell \u001b[0;32mIn[17], line 25\u001b[0m, in \u001b[0;36mtrain_svm\u001b[0;34m(X, y, C)\u001b[0m\n\u001b[1;32m     23\u001b[0m solvers\u001b[38;5;241m.\u001b[39moptions[\u001b[38;5;124m'\u001b[39m\u001b[38;5;124mreltol\u001b[39m\u001b[38;5;124m'\u001b[39m] \u001b[38;5;241m=\u001b[39m \u001b[38;5;241m1e-10\u001b[39m  \u001b[38;5;66;03m# Set higher accuracy\u001b[39;00m\n\u001b[1;32m     24\u001b[0m solvers\u001b[38;5;241m.\u001b[39moptions[\u001b[38;5;124m'\u001b[39m\u001b[38;5;124mfeastol\u001b[39m\u001b[38;5;124m'\u001b[39m] \u001b[38;5;241m=\u001b[39m \u001b[38;5;241m1e-10\u001b[39m  \u001b[38;5;66;03m# Set higher feasibility tolerance\u001b[39;00m\n\u001b[0;32m---> 25\u001b[0m solution \u001b[38;5;241m=\u001b[39m solvers\u001b[38;5;241m.\u001b[39mqp(P, q, G, h)\n\u001b[1;32m     27\u001b[0m \u001b[38;5;66;03m# Extract weights and bias\u001b[39;00m\n\u001b[1;32m     28\u001b[0m w \u001b[38;5;241m=\u001b[39m np\u001b[38;5;241m.\u001b[39marray(solution[\u001b[38;5;124m'\u001b[39m\u001b[38;5;124mx\u001b[39m\u001b[38;5;124m'\u001b[39m][:n_features])\n",
      "File \u001b[0;32m/opt/anaconda3/lib/python3.11/site-packages/cvxopt/coneprog.py:4485\u001b[0m, in \u001b[0;36mqp\u001b[0;34m(P, q, G, h, A, b, solver, kktsolver, initvals, **kwargs)\u001b[0m\n\u001b[1;32m   4475\u001b[0m         pinfres, dinfres \u001b[38;5;241m=\u001b[39m \u001b[38;5;28;01mNone\u001b[39;00m, \u001b[38;5;28;01mNone\u001b[39;00m\n\u001b[1;32m   4477\u001b[0m     \u001b[38;5;28;01mreturn\u001b[39;00m {\u001b[38;5;124m'\u001b[39m\u001b[38;5;124mstatus\u001b[39m\u001b[38;5;124m'\u001b[39m: status, \u001b[38;5;124m'\u001b[39m\u001b[38;5;124mx\u001b[39m\u001b[38;5;124m'\u001b[39m: x, \u001b[38;5;124m'\u001b[39m\u001b[38;5;124ms\u001b[39m\u001b[38;5;124m'\u001b[39m: s, \u001b[38;5;124m'\u001b[39m\u001b[38;5;124my\u001b[39m\u001b[38;5;124m'\u001b[39m: y, \u001b[38;5;124m'\u001b[39m\u001b[38;5;124mz\u001b[39m\u001b[38;5;124m'\u001b[39m: z,\n\u001b[1;32m   4478\u001b[0m         \u001b[38;5;124m'\u001b[39m\u001b[38;5;124mprimal objective\u001b[39m\u001b[38;5;124m'\u001b[39m: pcost, \u001b[38;5;124m'\u001b[39m\u001b[38;5;124mdual objective\u001b[39m\u001b[38;5;124m'\u001b[39m: dcost,\n\u001b[1;32m   4479\u001b[0m         \u001b[38;5;124m'\u001b[39m\u001b[38;5;124mgap\u001b[39m\u001b[38;5;124m'\u001b[39m: gap, \u001b[38;5;124m'\u001b[39m\u001b[38;5;124mrelative gap\u001b[39m\u001b[38;5;124m'\u001b[39m: relgap,\n\u001b[0;32m   (...)\u001b[0m\n\u001b[1;32m   4482\u001b[0m         \u001b[38;5;124m'\u001b[39m\u001b[38;5;124mresidual as primal infeasibility certificate\u001b[39m\u001b[38;5;124m'\u001b[39m: pinfres,\n\u001b[1;32m   4483\u001b[0m         \u001b[38;5;124m'\u001b[39m\u001b[38;5;124mresidual as dual infeasibility certificate\u001b[39m\u001b[38;5;124m'\u001b[39m: dinfres}\n\u001b[0;32m-> 4485\u001b[0m \u001b[38;5;28;01mreturn\u001b[39;00m coneqp(P, q, G, h, \u001b[38;5;28;01mNone\u001b[39;00m, A,  b, initvals, kktsolver \u001b[38;5;241m=\u001b[39m kktsolver, options \u001b[38;5;241m=\u001b[39m options)\n",
      "File \u001b[0;32m/opt/anaconda3/lib/python3.11/site-packages/cvxopt/coneprog.py:1841\u001b[0m, in \u001b[0;36mconeqp\u001b[0;34m(P, q, G, h, dims, A, b, initvals, kktsolver, xnewcopy, xdot, xaxpy, xscal, ynewcopy, ydot, yaxpy, yscal, **kwargs)\u001b[0m\n\u001b[1;32m   1839\u001b[0m \u001b[38;5;28;01mif\u001b[39;00m matrixP:\n\u001b[1;32m   1840\u001b[0m     \u001b[38;5;28;01mif\u001b[39;00m P\u001b[38;5;241m.\u001b[39mtypecode \u001b[38;5;241m!=\u001b[39m \u001b[38;5;124m'\u001b[39m\u001b[38;5;124md\u001b[39m\u001b[38;5;124m'\u001b[39m \u001b[38;5;129;01mor\u001b[39;00m P\u001b[38;5;241m.\u001b[39msize \u001b[38;5;241m!=\u001b[39m (q\u001b[38;5;241m.\u001b[39msize[\u001b[38;5;241m0\u001b[39m], q\u001b[38;5;241m.\u001b[39msize[\u001b[38;5;241m0\u001b[39m]):\n\u001b[0;32m-> 1841\u001b[0m         \u001b[38;5;28;01mraise\u001b[39;00m \u001b[38;5;167;01mTypeError\u001b[39;00m(\u001b[38;5;124m\"\u001b[39m\u001b[38;5;124m'\u001b[39m\u001b[38;5;124mP\u001b[39m\u001b[38;5;124m'\u001b[39m\u001b[38;5;124m must be a \u001b[39m\u001b[38;5;124m'\u001b[39m\u001b[38;5;124md\u001b[39m\u001b[38;5;124m'\u001b[39m\u001b[38;5;124m matrix of size (\u001b[39m\u001b[38;5;132;01m%d\u001b[39;00m\u001b[38;5;124m, \u001b[39m\u001b[38;5;132;01m%d\u001b[39;00m\u001b[38;5;124m)\u001b[39m\u001b[38;5;124m\"\u001b[39m\\\n\u001b[1;32m   1842\u001b[0m             \u001b[38;5;241m%\u001b[39m(q\u001b[38;5;241m.\u001b[39msize[\u001b[38;5;241m0\u001b[39m], q\u001b[38;5;241m.\u001b[39msize[\u001b[38;5;241m0\u001b[39m]))\n\u001b[1;32m   1843\u001b[0m     \u001b[38;5;28;01mdef\u001b[39;00m \u001b[38;5;21mfP\u001b[39m(x, y, alpha \u001b[38;5;241m=\u001b[39m \u001b[38;5;241m1.0\u001b[39m, beta \u001b[38;5;241m=\u001b[39m \u001b[38;5;241m0.0\u001b[39m):\n\u001b[1;32m   1844\u001b[0m         base\u001b[38;5;241m.\u001b[39msymv(P, x, y, alpha \u001b[38;5;241m=\u001b[39m alpha, beta \u001b[38;5;241m=\u001b[39m beta)\n",
      "\u001b[0;31mTypeError\u001b[0m: 'P' must be a 'd' matrix of size (17451, 17451)"
     ]
    }
   ],
   "source": [
    "from cvxopt import matrix, solvers\n",
    "\n",
    "def train_svm(X, y, C=1):\n",
    "    n_samples, n_features = X.shape\n",
    "    \n",
    "    # Adjust the regularization parameter and add bias handling directly within the optimization\n",
    "    P = matrix(np.block([\n",
    "        [np.eye(n_features), np.zeros((n_features, 1))],\n",
    "        [np.zeros((1, n_features)), np.zeros((1, 1))]\n",
    "    ]))\n",
    "    q = matrix(np.hstack([np.zeros(n_features + 1), C * np.ones(n_samples)]))\n",
    "    \n",
    "    # Set up the G and h matrices for inequality constraints\n",
    "    G_top = np.hstack([-y[:, np.newaxis] * X, -y[:, np.newaxis], -np.eye(n_samples)])\n",
    "    G_bottom = np.hstack([np.zeros((n_samples, n_features + 1)), -np.eye(n_samples)])\n",
    "    G = matrix(np.vstack([G_top, G_bottom]))\n",
    "\n",
    "    h = matrix(np.hstack([-np.ones(n_samples), np.zeros(n_samples)]))\n",
    "    \n",
    "    # Solve the quadratic programming problem\n",
    "    solvers.options['show_progress'] = True  # Enable progress output\n",
    "    solvers.options['abstol'] = 1e-10  # Set higher accuracy\n",
    "    solvers.options['reltol'] = 1e-10  # Set higher accuracy\n",
    "    solvers.options['feastol'] = 1e-10  # Set higher feasibility tolerance\n",
    "    solution = solvers.qp(P, q, G, h)\n",
    "    \n",
    "    # Extract weights and bias\n",
    "    w = np.array(solution['x'][:n_features])\n",
    "    b = np.array(solution['x'][n_features])\n",
    "\n",
    "    return w, b\n",
    "\n",
    "# Prepare one-vs-all classifiers\n",
    "classifiers = {}\n",
    "selected_digits = [2, 3, 8, 9]  # Assuming you have these digits only\n",
    "for digit in selected_digits:\n",
    "    y_binary = np.where(y_train == digit, 1, -1)\n",
    "    w, b = train_svm(X_train, y_binary, C=0.1)  # Using a smaller C for simplicity\n",
    "    classifiers[digit] = (w, b)\n",
    "\n",
    "def predict(X, classifiers):\n",
    "    results = {digit: X.dot(w) + b for digit, (w, b) in classifiers.items()}\n",
    "    return np.array([max(results, key=results.get) for _ in X])\n",
    "\n",
    "# Prediction\n",
    "predictions = predict(X_test, classifiers)"
   ]
  },
  {
   "cell_type": "code",
   "execution_count": null,
   "id": "e1c91cb8",
   "metadata": {},
   "outputs": [],
   "source": []
  }
 ],
 "metadata": {
  "kernelspec": {
   "display_name": "Python 3 (ipykernel)",
   "language": "python",
   "name": "python3"
  },
  "language_info": {
   "codemirror_mode": {
    "name": "ipython",
    "version": 3
   },
   "file_extension": ".py",
   "mimetype": "text/x-python",
   "name": "python",
   "nbconvert_exporter": "python",
   "pygments_lexer": "ipython3",
   "version": "3.11.7"
  }
 },
 "nbformat": 4,
 "nbformat_minor": 5
}
