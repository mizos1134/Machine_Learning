{
 "cells": [
  {
   "cell_type": "code",
   "execution_count": 16,
   "id": "cb373226",
   "metadata": {},
   "outputs": [],
   "source": [
    "import numpy as np\n",
    "from sklearn.svm import LinearSVC\n",
    "from sklearn.metrics import accuracy_score\n",
    "import time"
   ]
  },
  {
   "cell_type": "code",
   "execution_count": 17,
   "id": "a1d14a20",
   "metadata": {},
   "outputs": [],
   "source": [
    "from tensorflow.keras.datasets import mnist\n",
    "\n",
    "(x_train, y_train), (x_test, y_test) = mnist.load_data()"
   ]
  },
  {
   "cell_type": "code",
   "execution_count": 18,
   "id": "92b7e36c",
   "metadata": {},
   "outputs": [],
   "source": [
    "def filter_digits(x, y, digits):\n",
    "    mask = np.isin(y, digits)\n",
    "    return x[mask], y[mask]\n",
    "\n",
    "digits_of_interest = [2, 3, 8, 9]\n",
    "\n",
    "x_train, y_train = filter_digits(x_train, y_train, digits_of_interest)\n",
    "x_test, y_test = filter_digits(x_test, y_test, digits_of_interest)\n"
   ]
  },
  {
   "cell_type": "code",
   "execution_count": 19,
   "id": "2afb09a6",
   "metadata": {},
   "outputs": [],
   "source": [
    "x_train = x_train.reshape(-1, 784)\n",
    "x_test = x_test.reshape(-1, 784)\n",
    "\n",
    "x_train = x_train.astype(np.float32) / 255\n",
    "x_test = x_test.astype(np.float32) / 255\n"
   ]
  },
  {
   "cell_type": "code",
   "execution_count": 20,
   "id": "a55a7920",
   "metadata": {},
   "outputs": [],
   "source": [
    "from sklearn.model_selection import GridSearchCV\n",
    "\n",
    "svm_model = LinearSVC(C=1.0, dual=False, max_iter=10000)\n",
    "\n",
    "param_grid = {\n",
    "    'C': [0.01, 0.1, 1, 10, 100]\n",
    "}\n",
    "grid_search = GridSearchCV(svm_model, param_grid, cv=5, scoring='accuracy')\n",
    "# Start timing the training process\n",
    "start_time = time.time()\n",
    "\n",
    "# Fit grid search\n",
    "grid_search.fit(x_train, y_train)\n",
    "\n",
    "# End timing the training process\n",
    "end_time = time.time()\n",
    "training_time = end_time - start_time"
   ]
  },
  {
   "cell_type": "code",
   "execution_count": 21,
   "id": "6270d73f",
   "metadata": {},
   "outputs": [
    {
     "name": "stdout",
     "output_type": "stream",
     "text": [
      "Best parameters: {'C': 0.01}\n",
      "Training Accuracy with best C: 0.948\n",
      "Test Accuracy with best C: 0.945\n",
      "Training time: 131.75 seconds\n"
     ]
    }
   ],
   "source": [
    "print(\"Best parameters:\", grid_search.best_params_)\n",
    "best_model = grid_search.best_estimator_\n",
    "\n",
    "# Predict on the training data using the best parameters\n",
    "train_predictions = best_model.predict(x_train)\n",
    "train_accuracy = accuracy_score(y_train, train_predictions)\n",
    "\n",
    "# Predict on the test data using the best parameters\n",
    "test_predictions = best_model.predict(x_test)\n",
    "test_accuracy = accuracy_score(y_test, test_predictions)\n",
    "\n",
    "print(f\"Training Accuracy with best C: {train_accuracy:.3f}\")\n",
    "print(f\"Test Accuracy with best C: {test_accuracy:.3f}\")\n",
    "print(f\"Training time: {training_time:.2f} seconds\")\n"
   ]
  },
  {
   "cell_type": "code",
   "execution_count": null,
   "id": "9d5bd3c7",
   "metadata": {},
   "outputs": [],
   "source": []
  }
 ],
 "metadata": {
  "kernelspec": {
   "display_name": "Python 3 (ipykernel)",
   "language": "python",
   "name": "python3"
  },
  "language_info": {
   "codemirror_mode": {
    "name": "ipython",
    "version": 3
   },
   "file_extension": ".py",
   "mimetype": "text/x-python",
   "name": "python",
   "nbconvert_exporter": "python",
   "pygments_lexer": "ipython3",
   "version": "3.11.7"
  }
 },
 "nbformat": 4,
 "nbformat_minor": 5
}
