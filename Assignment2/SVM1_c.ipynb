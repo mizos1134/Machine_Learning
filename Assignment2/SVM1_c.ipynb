{
 "cells": [
  {
   "cell_type": "code",
   "execution_count": 10,
   "id": "ad511b07",
   "metadata": {},
   "outputs": [],
   "source": [
    "import numpy as np\n",
    "from tensorflow.keras.datasets import mnist\n",
    "from cvxopt import matrix, solvers\n",
    "import time"
   ]
  },
  {
   "cell_type": "code",
   "execution_count": 11,
   "id": "b26e5753",
   "metadata": {},
   "outputs": [],
   "source": [
    "(x_train, y_train), (x_test, y_test) = mnist.load_data()\n",
    "\n",
    "digits_of_interest = [2, 3, 8, 9]\n",
    "mask = np.isin(y_train, digits_of_interest)\n",
    "x_train, y_train = x_train[mask], y_train[mask]\n",
    "mask = np.isin(y_test, digits_of_interest)\n",
    "x_test, y_test = x_test[mask], y_test[mask]\n",
    "\n",
    "x_train, y_train = x_train[:5000], y_train[:5000]\n",
    "x_test, y_test = x_test[:1250], y_test[:1250]\n",
    "\n",
    "x_train = x_train.reshape(-1, 784) / 255.0\n",
    "x_test = x_test.reshape(-1, 784) / 255.0"
   ]
  },
  {
   "cell_type": "code",
   "execution_count": 12,
   "id": "9f96b072",
   "metadata": {},
   "outputs": [],
   "source": [
    "# Ensure labels are -1 and 1\n",
    "y_train = np.where(y_train == 2, 1, -1)\n",
    "y_test = np.where(y_test == 2, 1, -1)"
   ]
  },
  {
   "cell_type": "code",
   "execution_count": 13,
   "id": "0ed33262",
   "metadata": {},
   "outputs": [],
   "source": [
    "def rbf_kernel(x1, x2, gamma=0.01):\n",
    "    if x1.ndim == 1:\n",
    "        x1 = x1.reshape(1, -1)\n",
    "    if x2.ndim == 1:\n",
    "        x2 = x2.reshape(1, -1)\n",
    "    squared_distances = np.sum((x1[:, np.newaxis, :] - x2[np.newaxis, :, :]) ** 2, axis=2)\n",
    "    return np.exp(-gamma * squared_distances)"
   ]
  },
  {
   "cell_type": "code",
   "execution_count": 14,
   "id": "e55f8a49",
   "metadata": {},
   "outputs": [],
   "source": [
    "def compute_kernel_matrix(X, kernel_function):\n",
    "    n_samples = X.shape[0]\n",
    "    K = np.zeros((n_samples, n_samples))\n",
    "    for i in range(n_samples):\n",
    "        K[i, :] = kernel_function(X[i], X)\n",
    "    return K"
   ]
  },
  {
   "cell_type": "code",
   "execution_count": 15,
   "id": "c533771a",
   "metadata": {},
   "outputs": [],
   "source": [
    "def prepare_matrices(X, y, C):\n",
    "    y = y.astype(float)\n",
    "    K = compute_kernel_matrix(X, lambda x1, x2: rbf_kernel(x1, x2))\n",
    "    P = matrix(np.outer(y, y) * K)\n",
    "    q = matrix(-np.ones((X.shape[0], 1)))\n",
    "    G = matrix(np.vstack((-np.eye(X.shape[0]), np.eye(X.shape[0]))))\n",
    "    h = matrix(np.hstack((np.zeros(X.shape[0]), np.ones(X.shape[0]) * C)))\n",
    "    A = matrix(y.reshape(1, -1))\n",
    "    b = matrix(np.zeros(1))\n",
    "    return P, q, G, h, A, b"
   ]
  },
  {
   "cell_type": "code",
   "execution_count": 16,
   "id": "ba666673",
   "metadata": {},
   "outputs": [
    {
     "name": "stdout",
     "output_type": "stream",
     "text": [
      "     pcost       dcost       gap    pres   dres\n",
      " 0: -2.7445e+02 -1.0471e+03  4e+04  3e+01  4e-15\n",
      " 1: -1.0429e+02 -9.5346e+02  3e+03  1e+00  4e-15\n",
      " 2: -7.0878e+01 -4.6921e+02  5e+02  1e-01  2e-15\n",
      " 3: -7.5749e+01 -1.5682e+02  9e+01  2e-02  3e-15\n",
      " 4: -8.5765e+01 -1.2059e+02  4e+01  8e-03  2e-15\n",
      " 5: -9.0639e+01 -1.0796e+02  2e+01  3e-03  2e-15\n",
      " 6: -9.3154e+01 -1.0220e+02  9e+00  1e-03  1e-15\n",
      " 7: -9.4850e+01 -9.8735e+01  4e+00  5e-04  2e-15\n",
      " 8: -9.5866e+01 -9.6843e+01  1e+00  7e-05  2e-15\n",
      " 9: -9.6215e+01 -9.6317e+01  1e-01  3e-06  2e-15\n",
      "10: -9.6259e+01 -9.6264e+01  5e-03  7e-08  2e-15\n",
      "11: -9.6262e+01 -9.6262e+01  2e-04  2e-09  2e-15\n",
      "12: -9.6262e+01 -9.6262e+01  3e-06  4e-11  2e-15\n",
      "Optimal solution found.\n"
     ]
    }
   ],
   "source": [
    "C = 0.1\n",
    "P, q, G, h, A, b = prepare_matrices(x_train, y_train, C)\n",
    "\n",
    "# Start timing the training process\n",
    "start_time = time.time()\n",
    "\n",
    "sol = solvers.qp(P, q, G, h, A, b)\n",
    "\n",
    "# End timing the training process\n",
    "end_time = time.time()\n",
    "training_time = end_time - start_time\n",
    "\n",
    "alphas = np.array(sol['x']).flatten()"
   ]
  },
  {
   "cell_type": "code",
   "execution_count": 17,
   "id": "79fd8156",
   "metadata": {},
   "outputs": [
    {
     "name": "stdout",
     "output_type": "stream",
     "text": [
      "Alphas: [4.29798454e-10 9.99999991e-02 4.67116719e-10 ... 3.84375595e-10\n",
      " 3.03997595e-10 3.48081994e-10]\n",
      "Support Vector Indices: [   1    5    8 ... 4988 4989 4990]\n",
      "Support Vector Alphas: [0.1        0.1        0.01927898 ... 0.1        0.1        0.1       ]\n"
     ]
    }
   ],
   "source": [
    "# Debugging: Print the alphas\n",
    "print(\"Alphas:\", alphas)\n",
    "\n",
    "support_vector_indices = np.where(alphas > 1e-5)[0]\n",
    "support_vectors = x_train[support_vector_indices]\n",
    "support_vector_labels = y_train[support_vector_indices]\n",
    "support_vector_alphas = alphas[support_vector_indices]\n",
    "\n",
    "# Debugging: Print the support vector details\n",
    "print(\"Support Vector Indices:\", support_vector_indices)\n",
    "print(\"Support Vector Alphas:\", support_vector_alphas)\n",
    "\n",
    "\n",
    "def compute_intercept(support_vectors, support_vector_labels, support_vector_alphas, kernel_function):\n",
    "    intercept = 0\n",
    "    for i in range(len(support_vector_alphas)):\n",
    "        intercept += support_vector_labels[i]\n",
    "        intercept -= np.sum(support_vector_alphas * support_vector_labels * kernel_function(support_vectors, support_vectors[i]))\n",
    "    if len(support_vector_alphas) > 0:\n",
    "        intercept /= len(support_vector_alphas)\n",
    "    else:\n",
    "        intercept = 0\n",
    "    return intercept\n",
    "\n",
    "intercept = compute_intercept(support_vectors, support_vector_labels, support_vector_alphas, lambda x1, x2: rbf_kernel(x1, x2))"
   ]
  },
  {
   "cell_type": "code",
   "execution_count": 18,
   "id": "85d6afb5",
   "metadata": {},
   "outputs": [
    {
     "name": "stderr",
     "output_type": "stream",
     "text": [
      "/var/folders/0y/rkt1cks911v4smbrjw1q78v80000gn/T/ipykernel_64416/1375560065.py:8: DeprecationWarning: Conversion of an array with ndim > 0 to a scalar is deprecated, and will error in future. Ensure you extract a single element from your array before performing this operation. (Deprecated NumPy 1.25.)\n",
      "  predictions[i] = prediction\n"
     ]
    },
    {
     "name": "stdout",
     "output_type": "stream",
     "text": [
      "Training accuracy: 0.97\n",
      "Test accuracy: 0.96\n",
      "Training time: 28.08 seconds\n"
     ]
    }
   ],
   "source": [
    "def predict(X, support_vectors, support_vector_labels, support_vector_alphas, intercept, kernel_function):\n",
    "    predictions = np.zeros(X.shape[0])\n",
    "    for i in range(X.shape[0]):\n",
    "        prediction = 0\n",
    "        for alpha, sv_y, sv in zip(support_vector_alphas, support_vector_labels, support_vectors):\n",
    "            prediction += alpha * sv_y * kernel_function(X[i], sv)\n",
    "        predictions[i] = prediction\n",
    "    return np.sign(predictions + intercept)\n",
    "\n",
    "y_train_pred = predict(x_train, support_vectors, support_vector_labels, support_vector_alphas, intercept, lambda x1, x2: rbf_kernel(x1, x2))\n",
    "y_test_pred = predict(x_test, support_vectors, support_vector_labels, support_vector_alphas, intercept, lambda x1, x2: rbf_kernel(x1, x2))\n",
    "\n",
    "train_accuracy = np.mean(y_train == y_train_pred)\n",
    "test_accuracy = np.mean(y_test == y_test_pred)\n",
    "\n",
    "print(f\"Training accuracy: {train_accuracy:.2f}\")\n",
    "print(f\"Test accuracy: {test_accuracy:.2f}\")\n",
    "# Print the training time\n",
    "print(f\"Training time: {training_time:.2f} seconds\")"
   ]
  },
  {
   "cell_type": "code",
   "execution_count": null,
   "id": "42598be1",
   "metadata": {},
   "outputs": [],
   "source": []
  }
 ],
 "metadata": {
  "kernelspec": {
   "display_name": "Python 3 (ipykernel)",
   "language": "python",
   "name": "python3"
  },
  "language_info": {
   "codemirror_mode": {
    "name": "ipython",
    "version": 3
   },
   "file_extension": ".py",
   "mimetype": "text/x-python",
   "name": "python",
   "nbconvert_exporter": "python",
   "pygments_lexer": "ipython3",
   "version": "3.11.7"
  }
 },
 "nbformat": 4,
 "nbformat_minor": 5
}
