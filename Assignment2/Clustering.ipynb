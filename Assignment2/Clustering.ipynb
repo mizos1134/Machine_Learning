{
 "cells": [
  {
   "cell_type": "code",
   "execution_count": 22,
   "id": "3ca711e7",
   "metadata": {},
   "outputs": [],
   "source": [
    "import numpy as np\n",
    "from tensorflow.keras.datasets import mnist\n",
    "from sklearn.preprocessing import StandardScaler\n",
    "from sklearn.decomposition import PCA\n",
    "import matplotlib.pyplot as plt\n",
    "\n",
    "# Load data\n",
    "(x_train, y_train), (x_test, y_test) = mnist.load_data()\n",
    "\n",
    "# Filter for specific digits\n",
    "digits_of_interest = [2, 3, 8, 9]\n",
    "mask = np.isin(y_train, digits_of_interest)\n",
    "x_train, y_train = x_train[mask], y_train[mask]\n",
    "mask = np.isin(y_test, digits_of_interest)\n",
    "x_test, y_test = x_test[mask], y_test[mask]\n",
    "\n",
    "# Flatten and normalize\n",
    "x_train = x_train.reshape(-1, 784).astype(np.float64)\n",
    "x_test = x_test.reshape(-1, 784).astype(np.float64)\n",
    "x_train /= 255.0\n",
    "x_test /= 255.0\n",
    "\n",
    "# Standardize the data\n",
    "scaler = StandardScaler()\n",
    "x_train_standardized = scaler.fit_transform(x_train)\n",
    "x_test_standardized = scaler.transform(x_test)\n",
    "\n",
    "# Apply PCA\n",
    "n_components = 50\n",
    "pca = PCA(n_components=n_components)\n",
    "x_train_pca = pca.fit_transform(x_train_standardized)\n",
    "x_test_pca = pca.transform(x_test_standardized)"
   ]
  },
  {
   "cell_type": "code",
   "execution_count": 23,
   "id": "6d885ceb",
   "metadata": {},
   "outputs": [
    {
     "name": "stdout",
     "output_type": "stream",
     "text": [
      "SSE (flattened images): 1042456.69919748\n"
     ]
    }
   ],
   "source": [
    "def initialize_centroids(X, k):\n",
    "    np.random.seed(42)  # For reproducibility\n",
    "    indices = np.random.choice(X.shape[0], k, replace=False)\n",
    "    return X[indices]\n",
    "\n",
    "def compute_distances(X, centroids):\n",
    "    distances = np.zeros((X.shape[0], centroids.shape[0]))\n",
    "    for i, centroid in enumerate(centroids):\n",
    "        distances[:, i] = np.linalg.norm(X - centroid, axis=1)\n",
    "    return distances\n",
    "\n",
    "def assign_clusters(distances):\n",
    "    return np.argmin(distances, axis=1)\n",
    "\n",
    "def update_centroids(X, labels, k):\n",
    "    centroids = np.zeros((k, X.shape[1]))\n",
    "    for i in range(k):\n",
    "        if len(X[labels == i]) == 0:\n",
    "            centroids[i] = initialize_centroids(X, 1)  # Reinitialize empty cluster\n",
    "        else:\n",
    "            centroids[i] = X[labels == i].mean(axis=0)\n",
    "    return centroids\n",
    "\n",
    "def kmeans(X, k, max_iters=100, tol=1e-4):\n",
    "    centroids = initialize_centroids(X, k)\n",
    "    for i in range(max_iters):\n",
    "        old_centroids = centroids\n",
    "        distances = compute_distances(X, centroids)\n",
    "        labels = assign_clusters(distances)\n",
    "        centroids = update_centroids(X, labels, k)\n",
    "        if np.linalg.norm(centroids - old_centroids) < tol:\n",
    "            break\n",
    "    return labels, centroids\n",
    "\n",
    "# Find 4 clusters using flattened images\n",
    "k = 4\n",
    "labels, centroids = kmeans(x_train, k)\n",
    "\n",
    "# Calculate SSE (Sum of Squared Errors)\n",
    "def compute_sse(X, labels, centroids):\n",
    "    return np.sum((X - centroids[labels]) ** 2)\n",
    "\n",
    "sse = compute_sse(x_train, labels, centroids)\n",
    "print(f\"SSE (flattened images): {sse}\")\n"
   ]
  },
  {
   "cell_type": "code",
   "execution_count": 24,
   "id": "6623832b",
   "metadata": {},
   "outputs": [
    {
     "name": "stdout",
     "output_type": "stream",
     "text": [
      "SSE (PCA features): 7917818.728368093\n"
     ]
    }
   ],
   "source": [
    "# Find 4 clusters using PCA features\n",
    "labels_pca, centroids_pca = kmeans(x_train_pca, k)\n",
    "sse_pca = compute_sse(x_train_pca, labels_pca, centroids_pca)\n",
    "print(f\"SSE (PCA features): {sse_pca}\")"
   ]
  },
  {
   "cell_type": "code",
   "execution_count": 25,
   "id": "2dfd74b9",
   "metadata": {},
   "outputs": [
    {
     "name": "stdout",
     "output_type": "stream",
     "text": [
      "Clustering accuracy (flattened images): 0.4921245479418843\n",
      "Clustering accuracy (PCA features): 0.4170084635128988\n"
     ]
    }
   ],
   "source": [
    "from sklearn.metrics import adjusted_rand_score\n",
    "\n",
    "# Calculate clustering accuracy using ARI\n",
    "accuracy_flat = adjusted_rand_score(y_train, labels)\n",
    "accuracy_pca = adjusted_rand_score(y_train, labels_pca)\n",
    "print(f\"Clustering accuracy (flattened images): {accuracy_flat}\")\n",
    "print(f\"Clustering accuracy (PCA features): {accuracy_pca}\")\n"
   ]
  },
  {
   "cell_type": "code",
   "execution_count": 26,
   "id": "1762fcb6",
   "metadata": {},
   "outputs": [
    {
     "name": "stdout",
     "output_type": "stream",
     "text": [
      "SSE (flattened images, cosine): 1043827.4055159354\n",
      "SSE (PCA features, cosine): 7926491.812979403\n",
      "Clustering accuracy (flattened images, cosine): 0.45591412906393075\n",
      "Clustering accuracy (PCA features, cosine): 0.4822316874986062\n"
     ]
    }
   ],
   "source": [
    "from sklearn.metrics.pairwise import cosine_distances\n",
    "\n",
    "def compute_cosine_distances(X, centroids):\n",
    "    return cosine_distances(X, centroids)\n",
    "\n",
    "def kmeans_cosine(X, k, max_iters=100, tol=1e-4):\n",
    "    centroids = initialize_centroids(X, k)\n",
    "    for i in range(max_iters):\n",
    "        old_centroids = centroids\n",
    "        distances = compute_cosine_distances(X, centroids)\n",
    "        labels = assign_clusters(distances)\n",
    "        centroids = update_centroids(X, labels, k)\n",
    "        if np.linalg.norm(centroids - old_centroids) < tol:\n",
    "            break\n",
    "    return labels, centroids\n",
    "\n",
    "# Find 4 clusters using flattened images with cosine similarity\n",
    "labels_cosine, centroids_cosine = kmeans_cosine(x_train, k)\n",
    "sse_cosine = compute_sse(x_train, labels_cosine, centroids_cosine)\n",
    "print(f\"SSE (flattened images, cosine): {sse_cosine}\")\n",
    "\n",
    "# Find 4 clusters using PCA features with cosine similarity\n",
    "labels_pca_cosine, centroids_pca_cosine = kmeans_cosine(x_train_pca, k)\n",
    "sse_pca_cosine = compute_sse(x_train_pca, labels_pca_cosine, centroids_pca_cosine)\n",
    "print(f\"SSE (PCA features, cosine): {sse_pca_cosine}\")\n",
    "\n",
    "# Calculate clustering accuracy using ARI\n",
    "accuracy_flat_cosine = adjusted_rand_score(y_train, labels_cosine)\n",
    "accuracy_pca_cosine = adjusted_rand_score(y_train, labels_pca_cosine)\n",
    "print(f\"Clustering accuracy (flattened images, cosine): {accuracy_flat_cosine}\")\n",
    "print(f\"Clustering accuracy (PCA features, cosine): {accuracy_pca_cosine}\")"
   ]
  },
  {
   "cell_type": "code",
   "execution_count": null,
   "id": "676d66a3",
   "metadata": {},
   "outputs": [],
   "source": []
  }
 ],
 "metadata": {
  "kernelspec": {
   "display_name": "Python 3 (ipykernel)",
   "language": "python",
   "name": "python3"
  },
  "language_info": {
   "codemirror_mode": {
    "name": "ipython",
    "version": 3
   },
   "file_extension": ".py",
   "mimetype": "text/x-python",
   "name": "python",
   "nbconvert_exporter": "python",
   "pygments_lexer": "ipython3",
   "version": "3.11.7"
  }
 },
 "nbformat": 4,
 "nbformat_minor": 5
}
