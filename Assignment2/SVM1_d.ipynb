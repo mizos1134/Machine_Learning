{
 "cells": [
  {
   "cell_type": "code",
   "execution_count": 9,
   "id": "80353907",
   "metadata": {},
   "outputs": [],
   "source": [
    "import numpy as np\n",
    "from tensorflow.keras.datasets import mnist\n",
    "from sklearn.svm import SVC\n",
    "from sklearn.preprocessing import StandardScaler\n",
    "from sklearn.metrics import accuracy_score\n",
    "import time"
   ]
  },
  {
   "cell_type": "code",
   "execution_count": 10,
   "id": "6c6d38e0",
   "metadata": {},
   "outputs": [],
   "source": [
    "(x_train, y_train), (x_test, y_test) = mnist.load_data()\n",
    "\n",
    "digits_of_interest = [2, 3, 8, 9]\n",
    "mask = np.isin(y_train, digits_of_interest)\n",
    "x_train, y_train = x_train[mask], y_train[mask]\n",
    "mask = np.isin(y_test, digits_of_interest)\n",
    "x_test, y_test = x_test[mask], y_test[mask]\n",
    "\n",
    "x_train, y_train = x_train[:5000], y_train[:5000]\n",
    "x_test, y_test = x_test[:1250], y_test[:1250]\n",
    "\n",
    "x_train = x_train.reshape(-1, 784) / 255.0\n",
    "x_test = x_test.reshape(-1, 784) / 255.0\n",
    "\n",
    "scaler = StandardScaler()\n",
    "x_train = scaler.fit_transform(x_train)\n",
    "x_test = scaler.transform(x_test)"
   ]
  },
  {
   "cell_type": "code",
   "execution_count": 11,
   "id": "8dd503f7",
   "metadata": {},
   "outputs": [
    {
     "name": "stdout",
     "output_type": "stream",
     "text": [
      "Training time: 15.00 seconds\n"
     ]
    }
   ],
   "source": [
    "C = 1.0\n",
    "gamma = 0.05\n",
    "svm_model = SVC(C=C, kernel='rbf', gamma=gamma)\n",
    "\n",
    "start_time = time.time()\n",
    "svm_model.fit(x_train, y_train)\n",
    "end_time = time.time()\n",
    "training_time = end_time - start_time\n",
    "print(f\"Training time: {training_time:.2f} seconds\")\n"
   ]
  },
  {
   "cell_type": "code",
   "execution_count": 13,
   "id": "75f1f753",
   "metadata": {},
   "outputs": [
    {
     "name": "stdout",
     "output_type": "stream",
     "text": [
      "Training accuracy: 1.00\n",
      "Test accuracy: 0.28\n"
     ]
    }
   ],
   "source": [
    "y_train_pred = svm_model.predict(x_train)\n",
    "train_accuracy = accuracy_score(y_train, y_train_pred)\n",
    "print(f\"Training accuracy: {train_accuracy:.2f}\")\n",
    "\n",
    "y_test_pred = svm_model.predict(x_test)\n",
    "test_accuracy = accuracy_score(y_test, y_test_pred)\n",
    "print(f\"Test accuracy: {test_accuracy:.2f}\")"
   ]
  },
  {
   "cell_type": "code",
   "execution_count": 14,
   "id": "312e7334",
   "metadata": {},
   "outputs": [
    {
     "name": "stdout",
     "output_type": "stream",
     "text": [
      "Hyperparameter tuning time: 929.67 seconds\n",
      "Best parameters: {'C': 10, 'gamma': 0.01}\n",
      "Best cross-validation accuracy: 0.81\n",
      "Test accuracy with best model: 0.85\n"
     ]
    }
   ],
   "source": [
    "# Hyperparameter tuning using GridSearchCV\n",
    "param_grid = {\n",
    "    'C': [0.1, 1, 10, 100],\n",
    "    'gamma': [0.01, 0.05, 0.1, 0.5]\n",
    "}\n",
    "\n",
    "grid_search = GridSearchCV(SVC(kernel='rbf'), param_grid, cv=5)\n",
    "\n",
    "# Measure the tuning time\n",
    "start_time = time.time()\n",
    "grid_search.fit(x_train, y_train)\n",
    "end_time = time.time()\n",
    "tuning_time = end_time - start_time\n",
    "print(f\"Hyperparameter tuning time: {tuning_time:.2f} seconds\")\n",
    "\n",
    "print(f\"Best parameters: {grid_search.best_params_}\")\n",
    "print(f\"Best cross-validation accuracy: {grid_search.best_score_:.2f}\")\n",
    "\n",
    "best_model = grid_search.best_estimator_\n",
    "test_accuracy = best_model.score(x_test, y_test)\n",
    "print(f\"Test accuracy with best model: {test_accuracy:.2f}\")"
   ]
  },
  {
   "cell_type": "code",
   "execution_count": null,
   "id": "4c8ac883",
   "metadata": {},
   "outputs": [],
   "source": []
  }
 ],
 "metadata": {
  "kernelspec": {
   "display_name": "Python 3 (ipykernel)",
   "language": "python",
   "name": "python3"
  },
  "language_info": {
   "codemirror_mode": {
    "name": "ipython",
    "version": 3
   },
   "file_extension": ".py",
   "mimetype": "text/x-python",
   "name": "python",
   "nbconvert_exporter": "python",
   "pygments_lexer": "ipython3",
   "version": "3.11.7"
  }
 },
 "nbformat": 4,
 "nbformat_minor": 5
}
